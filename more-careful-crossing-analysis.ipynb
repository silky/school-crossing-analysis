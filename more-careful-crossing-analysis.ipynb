{
 "cells": [
  {
   "cell_type": "markdown",
   "id": "541eec6b-2b0b-47fe-a2bb-b23aec11aa00",
   "metadata": {},
   "source": [
    "# Crossing analysis setup in b6"
   ]
  },
  {
   "cell_type": "markdown",
   "id": "c5e4955a-bc58-4a2c-8054-1858e7b5ca04",
   "metadata": {},
   "source": [
    "### 1. Connect to the \"world\", and find all the schools."
   ]
  },
  {
   "cell_type": "code",
   "execution_count": 1,
   "id": "242378ba-7e01-4c5a-a671-875a8afc52aa",
   "metadata": {
    "editable": true,
    "slideshow": {
     "slide_type": ""
    },
    "tags": []
   },
   "outputs": [],
   "source": [
    "import diagonal_b6 as b6\n",
    "import pandas as pd\n",
    "from tqdm.notebook import tqdm"
   ]
  },
  {
   "cell_type": "code",
   "execution_count": 2,
   "id": "8363eb20-467a-4a66-9cba-9029702fcfd7",
   "metadata": {},
   "outputs": [],
   "source": [
    "w = b6.connect_insecure(\"0.0.0.0:8002\")"
   ]
  },
  {
   "cell_type": "markdown",
   "id": "54f604d7-d43e-4450-85b1-a2807ec23685",
   "metadata": {},
   "source": [
    "We use _#amenity=school_ as it has details like \"name\"."
   ]
  },
  {
   "cell_type": "code",
   "execution_count": 3,
   "id": "630e27fb-6bc1-4b79-9b5f-32a5dabf148f",
   "metadata": {},
   "outputs": [],
   "source": [
    "schools = b6.find(b6.tagged(\"#amenity\", \"school\"))\n",
    "school_names = w(schools.map(lambda f: f.get_string(\"name\")))"
   ]
  },
  {
   "cell_type": "markdown",
   "id": "a83ddef1-d601-46c6-be00-895cbb3434ac",
   "metadata": {},
   "source": [
    "Just do a sanity check of one to see that things make sense"
   ]
  },
  {
   "cell_type": "code",
   "execution_count": 4,
   "id": "ce952786-586f-4020-b8f9-4ee72fdd0f53",
   "metadata": {},
   "outputs": [
    {
     "data": {
      "text/plain": [
       "[('addr:postcode', 'EH4 4EP'),\n",
       " ('#amenity', 'school'),\n",
       " ('email', 'admin@pirniehall.edin.sch.uk'),\n",
       " ('fax', '+44 131 538 7093'),\n",
       " ('name', 'Pirniehall Primary School'),\n",
       " ('operator', 'The City of Edinburgh Council'),\n",
       " ('operator:wikidata', 'Q28530250'),\n",
       " ('phone', '+44 131 332 5256'),\n",
       " ('ref:GB:uprn', '906258238'),\n",
       " ('ref:seedcode', '5527821'),\n",
       " ('school', 'primary'),\n",
       " ('website', 'https://pirniehallprimary.wordpress.com/'),\n",
       " ('point', '55.9737056,-3.2510739')]"
      ]
     },
     "execution_count": 4,
     "metadata": {},
     "output_type": "execute_result"
    }
   ],
   "source": [
    "w(schools)[0][1].all_tags()"
   ]
  },
  {
   "cell_type": "markdown",
   "id": "4737e06a-89eb-451b-872e-1cdb8181bd44",
   "metadata": {},
   "source": [
    "Pick out EMAS, as we want to center our analysis around that."
   ]
  },
  {
   "cell_type": "code",
   "execution_count": 5,
   "id": "f194cdb4-ad65-4f11-99f8-8a9cd2dd7c2c",
   "metadata": {},
   "outputs": [],
   "source": [
    "[emas_feature_id] = ( s for s, n in school_names if \"Montessori\" in n )"
   ]
  },
  {
   "cell_type": "code",
   "execution_count": 6,
   "id": "086f19c1-2f37-4d50-825d-83657e368b53",
   "metadata": {},
   "outputs": [
    {
     "data": {
      "text/plain": [
       "/point/openstreetmap.org/node/4057361549"
      ]
     },
     "execution_count": 6,
     "metadata": {},
     "output_type": "execute_result"
    }
   ],
   "source": [
    "emas_feature_id"
   ]
  },
  {
   "cell_type": "markdown",
   "id": "cd8dd35f-0d02-44b2-a69b-c2a2b3bce9e3",
   "metadata": {},
   "source": [
    "### 2. For each school, find all crossings within 500 meters by walking"
   ]
  },
  {
   "cell_type": "code",
   "execution_count": 7,
   "id": "34d633e0-eacf-47f1-ace1-2cd68fbce138",
   "metadata": {},
   "outputs": [
    {
     "data": {
      "application/vnd.jupyter.widget-view+json": {
       "model_id": "682402f078464adea65fe407faf17bc4",
       "version_major": 2,
       "version_minor": 0
      },
      "text/plain": [
       "  0%|          | 0/167 [00:00<?, ?it/s]"
      ]
     },
     "metadata": {},
     "output_type": "display_data"
    }
   ],
   "source": [
    "results = []\n",
    "new_tags = []\n",
    "our_crossings = []\n",
    "\n",
    "# Note: Should we look for more crossings?\n",
    "# For example, adding on:\n",
    "#\n",
    "#   > .or_(b6.keyed(\"#highway\", \"crossing\"))\n",
    "# ?\n",
    "is_crossing = b6.keyed(\"crossing\") # \n",
    "\n",
    "for school, name in tqdm(school_names):\n",
    "\n",
    "    # New feature: 'is_valid()'\n",
    "    crossings = w( b6.accessible_all([school], is_crossing, 500.0, {\"mode\": \"walk\"})\n",
    "                  .filter(lambda x: b6.matches(x, b6.is_valid()))\n",
    "                 )\n",
    "\n",
    "    for _, crossing in crossings:\n",
    "        our_crossings.append(crossing)\n",
    "        \n",
    "        roads = w( b6.find(b6.within_cap( b6.find_feature(crossing), 1.0))\n",
    "                  .filter(lambda v: b6.matches(v, b6.keyed(\"maxspeed\")))\n",
    "                  .map(lambda v: v.get_string(\"maxspeed\"))\n",
    "                 )\n",
    "\n",
    "        if len(roads) == 1:\n",
    "            # New feature: 'get_centroid'\n",
    "            distance = w( b6.distance_meters( b6.find_feature(school).get_centroid()\n",
    "                                            , b6.find_feature(crossing).get_centroid()\n",
    "                                            ))\n",
    "\n",
    "            # Note: Would be ideal to not have to do this query again.\n",
    "            kind = w( b6.find_feature(crossing) ).get_string(\"crossing_ref\")\n",
    "\n",
    "            results.append(\n",
    "                { \"Name\": name\n",
    "                , \"school_feature_id\": school\n",
    "                , \"crossing_feature_id\": crossing\n",
    "                , \"Speed\": roads[0][1]\n",
    "                , \"Distance\": distance\n",
    "                , \"Kind\": kind\n",
    "                })\n",
    "\n",
    "df = pd.DataFrame(results)"
   ]
  },
  {
   "cell_type": "code",
   "execution_count": 8,
   "id": "e2652138-df80-4d75-a0cc-2db75b756c1c",
   "metadata": {},
   "outputs": [
    {
     "data": {
      "text/html": [
       "<div>\n",
       "<style scoped>\n",
       "    .dataframe tbody tr th:only-of-type {\n",
       "        vertical-align: middle;\n",
       "    }\n",
       "\n",
       "    .dataframe tbody tr th {\n",
       "        vertical-align: top;\n",
       "    }\n",
       "\n",
       "    .dataframe thead th {\n",
       "        text-align: right;\n",
       "    }\n",
       "</style>\n",
       "<table border=\"1\" class=\"dataframe\">\n",
       "  <thead>\n",
       "    <tr style=\"text-align: right;\">\n",
       "      <th></th>\n",
       "      <th>Name</th>\n",
       "      <th>school_feature_id</th>\n",
       "      <th>crossing_feature_id</th>\n",
       "      <th>Speed</th>\n",
       "      <th>Distance</th>\n",
       "      <th>Kind</th>\n",
       "    </tr>\n",
       "  </thead>\n",
       "  <tbody>\n",
       "    <tr>\n",
       "      <th>339</th>\n",
       "      <td>Stewart's Melville College</td>\n",
       "      <td>/area/openstreetmap.org/way/23213650</td>\n",
       "      <td>/point/openstreetmap.org/node/3333905487</td>\n",
       "      <td>20 mph</td>\n",
       "      <td>114.515347</td>\n",
       "      <td></td>\n",
       "    </tr>\n",
       "    <tr>\n",
       "      <th>244</th>\n",
       "      <td>George Heriot's School</td>\n",
       "      <td>/area/openstreetmap.org/way/5648757</td>\n",
       "      <td>/point/openstreetmap.org/node/2778979183</td>\n",
       "      <td>20 mph</td>\n",
       "      <td>307.305202</td>\n",
       "      <td></td>\n",
       "    </tr>\n",
       "    <tr>\n",
       "      <th>882</th>\n",
       "      <td>Pentland Primary School</td>\n",
       "      <td>/area/openstreetmap.org/way/396383308</td>\n",
       "      <td>/point/openstreetmap.org/node/1627293479</td>\n",
       "      <td>20 mph</td>\n",
       "      <td>256.524126</td>\n",
       "      <td></td>\n",
       "    </tr>\n",
       "    <tr>\n",
       "      <th>567</th>\n",
       "      <td>Dunedin School</td>\n",
       "      <td>/area/openstreetmap.org/way/61319556</td>\n",
       "      <td>/point/openstreetmap.org/node/3526282223</td>\n",
       "      <td>30 mph</td>\n",
       "      <td>321.486979</td>\n",
       "      <td>pelican</td>\n",
       "    </tr>\n",
       "    <tr>\n",
       "      <th>923</th>\n",
       "      <td>St Thomas of Aquin's High School</td>\n",
       "      <td>/area/openstreetmap.org/way/655975021</td>\n",
       "      <td>/point/openstreetmap.org/node/6597685968</td>\n",
       "      <td>20 mph</td>\n",
       "      <td>322.421376</td>\n",
       "      <td></td>\n",
       "    </tr>\n",
       "  </tbody>\n",
       "</table>\n",
       "</div>"
      ],
      "text/plain": [
       "                                 Name                      school_feature_id  \\\n",
       "339        Stewart's Melville College   /area/openstreetmap.org/way/23213650   \n",
       "244            George Heriot's School    /area/openstreetmap.org/way/5648757   \n",
       "882           Pentland Primary School  /area/openstreetmap.org/way/396383308   \n",
       "567                    Dunedin School   /area/openstreetmap.org/way/61319556   \n",
       "923  St Thomas of Aquin's High School  /area/openstreetmap.org/way/655975021   \n",
       "\n",
       "                          crossing_feature_id   Speed    Distance     Kind  \n",
       "339  /point/openstreetmap.org/node/3333905487  20 mph  114.515347           \n",
       "244  /point/openstreetmap.org/node/2778979183  20 mph  307.305202           \n",
       "882  /point/openstreetmap.org/node/1627293479  20 mph  256.524126           \n",
       "567  /point/openstreetmap.org/node/3526282223  30 mph  321.486979  pelican  \n",
       "923  /point/openstreetmap.org/node/6597685968  20 mph  322.421376           "
      ]
     },
     "execution_count": 8,
     "metadata": {},
     "output_type": "execute_result"
    }
   ],
   "source": [
    "df.sample(n=5, random_state=1)"
   ]
  },
  {
   "cell_type": "markdown",
   "id": "a7475663-3e57-4765-9886-312207597980",
   "metadata": {},
   "source": [
    "Now, limit to the crossing that was the closest."
   ]
  },
  {
   "cell_type": "code",
   "execution_count": 9,
   "id": "0c9859a8-0fdc-42e5-80de-977bae590972",
   "metadata": {},
   "outputs": [
    {
     "data": {
      "text/html": [
       "<div>\n",
       "<style scoped>\n",
       "    .dataframe tbody tr th:only-of-type {\n",
       "        vertical-align: middle;\n",
       "    }\n",
       "\n",
       "    .dataframe tbody tr th {\n",
       "        vertical-align: top;\n",
       "    }\n",
       "\n",
       "    .dataframe thead th {\n",
       "        text-align: right;\n",
       "    }\n",
       "</style>\n",
       "<table border=\"1\" class=\"dataframe\">\n",
       "  <thead>\n",
       "    <tr style=\"text-align: right;\">\n",
       "      <th></th>\n",
       "      <th>Name</th>\n",
       "      <th>school_feature_id</th>\n",
       "      <th>crossing_feature_id</th>\n",
       "      <th>Speed</th>\n",
       "      <th>Distance</th>\n",
       "      <th>Kind</th>\n",
       "    </tr>\n",
       "  </thead>\n",
       "  <tbody>\n",
       "    <tr>\n",
       "      <th>883</th>\n",
       "      <td>Newcraighall Primary School</td>\n",
       "      <td>/area/openstreetmap.org/way/396466831</td>\n",
       "      <td>/point/openstreetmap.org/node/480037918</td>\n",
       "      <td>30 mph</td>\n",
       "      <td>197.810271</td>\n",
       "      <td>pelican</td>\n",
       "    </tr>\n",
       "    <tr>\n",
       "      <th>818</th>\n",
       "      <td>Dean Park Primary School Annexe</td>\n",
       "      <td>/area/openstreetmap.org/way/256221261</td>\n",
       "      <td>/point/openstreetmap.org/node/9079483304</td>\n",
       "      <td>20 mph</td>\n",
       "      <td>47.905070</td>\n",
       "      <td></td>\n",
       "    </tr>\n",
       "    <tr>\n",
       "      <th>250</th>\n",
       "      <td>George Heriot's School</td>\n",
       "      <td>/area/openstreetmap.org/way/5648757</td>\n",
       "      <td>/point/openstreetmap.org/node/6629559145</td>\n",
       "      <td>20 mph</td>\n",
       "      <td>133.950707</td>\n",
       "      <td></td>\n",
       "    </tr>\n",
       "    <tr>\n",
       "      <th>688</th>\n",
       "      <td>Balgreen Primary School</td>\n",
       "      <td>/area/openstreetmap.org/way/97539448</td>\n",
       "      <td>/point/openstreetmap.org/node/2668571326</td>\n",
       "      <td>20 mph</td>\n",
       "      <td>200.893214</td>\n",
       "      <td>toucan</td>\n",
       "    </tr>\n",
       "    <tr>\n",
       "      <th>321</th>\n",
       "      <td>Drummond Community High School</td>\n",
       "      <td>/area/openstreetmap.org/way/23164582</td>\n",
       "      <td>/point/openstreetmap.org/node/4247130908</td>\n",
       "      <td>20 mph</td>\n",
       "      <td>89.707302</td>\n",
       "      <td></td>\n",
       "    </tr>\n",
       "  </tbody>\n",
       "</table>\n",
       "</div>"
      ],
      "text/plain": [
       "                                Name                      school_feature_id  \\\n",
       "883      Newcraighall Primary School  /area/openstreetmap.org/way/396466831   \n",
       "818  Dean Park Primary School Annexe  /area/openstreetmap.org/way/256221261   \n",
       "250           George Heriot's School    /area/openstreetmap.org/way/5648757   \n",
       "688          Balgreen Primary School   /area/openstreetmap.org/way/97539448   \n",
       "321   Drummond Community High School   /area/openstreetmap.org/way/23164582   \n",
       "\n",
       "                          crossing_feature_id   Speed    Distance     Kind  \n",
       "883   /point/openstreetmap.org/node/480037918  30 mph  197.810271  pelican  \n",
       "818  /point/openstreetmap.org/node/9079483304  20 mph   47.905070           \n",
       "250  /point/openstreetmap.org/node/6629559145  20 mph  133.950707           \n",
       "688  /point/openstreetmap.org/node/2668571326  20 mph  200.893214   toucan  \n",
       "321  /point/openstreetmap.org/node/4247130908  20 mph   89.707302           "
      ]
     },
     "execution_count": 9,
     "metadata": {},
     "output_type": "execute_result"
    }
   ],
   "source": [
    "min_df = df.loc[df.groupby('Name').Distance.idxmin()]\n",
    "min_df.sample(n=5, random_state=1)"
   ]
  },
  {
   "cell_type": "markdown",
   "id": "e5ab3c1b-6393-4df3-9e57-53d97affdd17",
   "metadata": {},
   "source": [
    "Show the ones that are furthers away"
   ]
  },
  {
   "cell_type": "code",
   "execution_count": 10,
   "id": "ff30b5e0-cb52-4492-940b-be612c94b474",
   "metadata": {},
   "outputs": [
    {
     "data": {
      "text/html": [
       "<div>\n",
       "<style scoped>\n",
       "    .dataframe tbody tr th:only-of-type {\n",
       "        vertical-align: middle;\n",
       "    }\n",
       "\n",
       "    .dataframe tbody tr th {\n",
       "        vertical-align: top;\n",
       "    }\n",
       "\n",
       "    .dataframe thead th {\n",
       "        text-align: right;\n",
       "    }\n",
       "</style>\n",
       "<table border=\"1\" class=\"dataframe\">\n",
       "  <thead>\n",
       "    <tr style=\"text-align: right;\">\n",
       "      <th></th>\n",
       "      <th>Name</th>\n",
       "      <th>school_feature_id</th>\n",
       "      <th>crossing_feature_id</th>\n",
       "      <th>Speed</th>\n",
       "      <th>Distance</th>\n",
       "      <th>Kind</th>\n",
       "    </tr>\n",
       "  </thead>\n",
       "  <tbody>\n",
       "    <tr>\n",
       "      <th>186</th>\n",
       "      <td>Fettes College</td>\n",
       "      <td>/area/openstreetmap.org/way/5004430</td>\n",
       "      <td>/point/openstreetmap.org/node/12206829689</td>\n",
       "      <td>30 mph</td>\n",
       "      <td>343.976825</td>\n",
       "      <td></td>\n",
       "    </tr>\n",
       "    <tr>\n",
       "      <th>468</th>\n",
       "      <td>Frogston Primary School</td>\n",
       "      <td>/area/openstreetmap.org/way/30473316</td>\n",
       "      <td>/point/openstreetmap.org/node/2809168515</td>\n",
       "      <td>30 mph</td>\n",
       "      <td>296.519879</td>\n",
       "      <td>pelican</td>\n",
       "    </tr>\n",
       "    <tr>\n",
       "      <th>479</th>\n",
       "      <td>Colinton Primary School</td>\n",
       "      <td>/area/openstreetmap.org/way/35868221</td>\n",
       "      <td>/point/openstreetmap.org/node/1640849161</td>\n",
       "      <td>30 mph</td>\n",
       "      <td>292.521004</td>\n",
       "      <td>pelican</td>\n",
       "    </tr>\n",
       "    <tr>\n",
       "      <th>736</th>\n",
       "      <td>Braidburn School</td>\n",
       "      <td>/area/openstreetmap.org/way/130035790</td>\n",
       "      <td>/point/openstreetmap.org/node/473840431</td>\n",
       "      <td>30 mph</td>\n",
       "      <td>281.896714</td>\n",
       "      <td>toucan</td>\n",
       "    </tr>\n",
       "    <tr>\n",
       "      <th>481</th>\n",
       "      <td>St Mark's RC Primary School</td>\n",
       "      <td>/area/openstreetmap.org/way/35868235</td>\n",
       "      <td>/point/openstreetmap.org/node/1640849161</td>\n",
       "      <td>30 mph</td>\n",
       "      <td>271.512823</td>\n",
       "      <td>pelican</td>\n",
       "    </tr>\n",
       "    <tr>\n",
       "      <th>359</th>\n",
       "      <td>Currie Primary School</td>\n",
       "      <td>/area/openstreetmap.org/way/23658126</td>\n",
       "      <td>/point/openstreetmap.org/node/27333812</td>\n",
       "      <td>30 mph</td>\n",
       "      <td>267.521630</td>\n",
       "      <td></td>\n",
       "    </tr>\n",
       "    <tr>\n",
       "      <th>120</th>\n",
       "      <td>Edinburgh Montessori Arts School</td>\n",
       "      <td>/point/openstreetmap.org/node/4057361549</td>\n",
       "      <td>/point/openstreetmap.org/node/2459652028</td>\n",
       "      <td>30 mph</td>\n",
       "      <td>263.551439</td>\n",
       "      <td></td>\n",
       "    </tr>\n",
       "  </tbody>\n",
       "</table>\n",
       "</div>"
      ],
      "text/plain": [
       "                                 Name  \\\n",
       "186                    Fettes College   \n",
       "468           Frogston Primary School   \n",
       "479           Colinton Primary School   \n",
       "736                  Braidburn School   \n",
       "481       St Mark's RC Primary School   \n",
       "359             Currie Primary School   \n",
       "120  Edinburgh Montessori Arts School   \n",
       "\n",
       "                            school_feature_id  \\\n",
       "186       /area/openstreetmap.org/way/5004430   \n",
       "468      /area/openstreetmap.org/way/30473316   \n",
       "479      /area/openstreetmap.org/way/35868221   \n",
       "736     /area/openstreetmap.org/way/130035790   \n",
       "481      /area/openstreetmap.org/way/35868235   \n",
       "359      /area/openstreetmap.org/way/23658126   \n",
       "120  /point/openstreetmap.org/node/4057361549   \n",
       "\n",
       "                           crossing_feature_id   Speed    Distance     Kind  \n",
       "186  /point/openstreetmap.org/node/12206829689  30 mph  343.976825           \n",
       "468   /point/openstreetmap.org/node/2809168515  30 mph  296.519879  pelican  \n",
       "479   /point/openstreetmap.org/node/1640849161  30 mph  292.521004  pelican  \n",
       "736    /point/openstreetmap.org/node/473840431  30 mph  281.896714   toucan  \n",
       "481   /point/openstreetmap.org/node/1640849161  30 mph  271.512823  pelican  \n",
       "359     /point/openstreetmap.org/node/27333812  30 mph  267.521630           \n",
       "120   /point/openstreetmap.org/node/2459652028  30 mph  263.551439           "
      ]
     },
     "execution_count": 10,
     "metadata": {},
     "output_type": "execute_result"
    }
   ],
   "source": [
    "min_df[ (min_df[\"Speed\"] == \"30 mph\") ].sort_values([\"Distance\"])[::-1][0:7]"
   ]
  },
  {
   "cell_type": "code",
   "execution_count": 11,
   "id": "406ce7e4-e5bd-4a94-be98-1f552bc26ab7",
   "metadata": {},
   "outputs": [],
   "source": [
    "# min_df[ (min_df[\"Speed\"] == \"20 mph\") ].sort_values([\"Distance\"])[::-1]"
   ]
  },
  {
   "cell_type": "markdown",
   "id": "6da08b88-eff0-4659-bd52-6984203a847e",
   "metadata": {},
   "source": [
    "## Build b6 ui"
   ]
  },
  {
   "cell_type": "markdown",
   "id": "459b5aad-d1e7-40a2-8475-d071e310c798",
   "metadata": {},
   "source": [
    "Create tags for `min_df` by school"
   ]
  },
  {
   "cell_type": "code",
   "execution_count": 12,
   "id": "e01c5e52-0e33-4410-a03e-a0a0a9656adc",
   "metadata": {},
   "outputs": [],
   "source": [
    "new_tags = []\n",
    "\n",
    "for _, row in min_df.iterrows():\n",
    "    school_tag   = b6.add_tag(row.school_feature_id, b6.tag(\"#distance-to-crossing\", f\"{int(row.Distance)}\"))\n",
    "    crossing_tag = b6.add_tag(row.crossing_feature_id, b6.tag(\"#maxspeed\", row.Speed))\n",
    "    \n",
    "    new_tags.append(school_tag)\n",
    "    new_tags.append(crossing_tag)"
   ]
  },
  {
   "cell_type": "code",
   "execution_count": 13,
   "id": "97ba1861-08b1-4a3c-84c7-5936ed546388",
   "metadata": {},
   "outputs": [],
   "source": [
    "name = \"diagonal.works/edinburgh/school-crossing-analyis\"\n",
    "\n",
    "root_id               = b6.FeatureID(b6.FEATURE_TYPE_COLLECTION, name, 0)\n",
    "distance_histogram_id = b6.FeatureID(b6.FEATURE_TYPE_COLLECTION, name, 1)\n",
    "speed_histogram_id    = b6.FeatureID(b6.FEATURE_TYPE_COLLECTION, name, 2)\n",
    "kind_histogram_id     = b6.FeatureID(b6.FEATURE_TYPE_COLLECTION, name, 3)\n",
    "\n",
    "detail_root_id        = b6.FeatureID(b6.FEATURE_TYPE_COLLECTION, name, 4)\n",
    "schools_collection_id = b6.FeatureID(b6.FEATURE_TYPE_COLLECTION, name, 5)\n",
    "\n",
    "tabs = []"
   ]
  },
  {
   "cell_type": "markdown",
   "id": "cbde6e5f-4d61-4e54-9c00-a1cb1bff852f",
   "metadata": {},
   "source": [
    "### Add the tags to the base world _at_ the point where we want to have our tabs"
   ]
  },
  {
   "cell_type": "code",
   "execution_count": 14,
   "id": "5060c451-22aa-499a-a6b9-aa111a53b5f1",
   "metadata": {},
   "outputs": [],
   "source": [
    "changes = b6.merge_changes(new_tags)\n",
    "w(b6.add_world_with_change(root_id, changes));"
   ]
  },
  {
   "cell_type": "markdown",
   "id": "a0a1cc95-282c-4f95-a24e-b0f79cfbafa7",
   "metadata": {},
   "source": [
    "### Histogram tab"
   ]
  },
  {
   "cell_type": "code",
   "execution_count": 15,
   "id": "0507e0da-c70d-466e-8ef5-ec18735ff921",
   "metadata": {},
   "outputs": [],
   "source": [
    "# Distances\n",
    "tagged_schools = b6.find(b6.keyed(\"#distance-to-crossing\"))\n",
    "\n",
    "distance_histogram = b6.histogram_with_id( tagged_schools.map(lambda v: v.get_float(\"#distance-to-crossing\"))\n",
    "                                         , distance_histogram_id\n",
    "                                         )\n",
    "distance_histogram_labels = b6.add_tag(distance_histogram_id, b6.tag(\"b6:label\", \"Distance to closest crossing\"))\n",
    "\n",
    "\n",
    "# Speeds on the street of the crossings\n",
    "tagged_crossings = b6.find(b6.keyed(\"#maxspeed\"))\n",
    "\n",
    "speed_histogram = b6.histogram_with_id( tagged_crossings.map(lambda v: v.get_string(\"#maxspeed\"))\n",
    "                                      , speed_histogram_id\n",
    "                                      )\n",
    "speed_histogram_labels = b6.add_tag(speed_histogram_id, b6.tag(\"b6:label\", \"Max speed\"))\n",
    "\n",
    "\n",
    "# Kinds of the crossings\n",
    "kind_histogram = b6.histogram_with_id( tagged_crossings.map(lambda v: v.get_string(\"crossing_ref\"))\n",
    "                                      , kind_histogram_id\n",
    "                                      )\n",
    "kind_histogram_labels = b6.add_tag(kind_histogram_id, b6.tag(\"b6:label\", \"Crossing kind\"))\n",
    "\n",
    "add_root = b6.add_collection(root_id, {}, b6.collection(\n",
    "    b6.pair(\"centroid\", emas_feature_id),\n",
    "    b6.pair(\"docked\", distance_histogram_id),\n",
    "    b6.pair(\"docked\", speed_histogram_id),\n",
    "    b6.pair(\"docked\", kind_histogram_id),\n",
    "))\n",
    "\n",
    "tabs.append( f\"{root_id}:l:0:Histogram\" )\n",
    "\n",
    "all_changes = \\\n",
    "    [ add_root\n",
    "    , distance_histogram\n",
    "    , distance_histogram_labels\n",
    "    , speed_histogram\n",
    "    , speed_histogram_labels\n",
    "    , kind_histogram\n",
    "    , kind_histogram_labels\n",
    "    ] \n",
    "\n",
    "w_root = b6.connect_insecure(\"0.0.0.0:8002\", root=root_id)\n",
    "changes = b6.merge_changes(all_changes)\n",
    "w_root(b6.add_world_with_change(root_id, changes));"
   ]
  },
  {
   "cell_type": "markdown",
   "id": "13c13e66-544e-4c85-b76b-df794548863a",
   "metadata": {},
   "source": [
    "### Detail tab"
   ]
  },
  {
   "cell_type": "code",
   "execution_count": 16,
   "id": "2a7ed5d5-b50d-4cfd-b4ca-97ecdd29834b",
   "metadata": {},
   "outputs": [],
   "source": [
    "# School-to-crossing\n",
    "c = b6.collection(*[ b6.pair( b6.find_feature(r.school_feature_id)\n",
    "                            , b6.find_feature(r.crossing_feature_id)\n",
    "                            ) for _, r in min_df.iterrows()])\n",
    "add_collection = b6.add_collection(schools_collection_id, {\"b6-title\": b6.tag(\"b6:title\", \"Schools and closest crossing\")}, c)\n",
    "\n",
    "\n",
    "add_detail_root = b6.add_collection(detail_root_id, {}, b6.collection(\n",
    "    b6.pair(\"centroid\", emas_feature_id),\n",
    "    b6.pair(\"docked\", schools_collection_id),\n",
    "))\n",
    "\n",
    "tabs.append(f\"{detail_root_id}:l:1:Details\")\n",
    "\n",
    "w_detail = b6.connect_insecure(\"0.0.0.0:8002\", root=detail_root_id)\n",
    "changes = b6.merge_changes([ add_detail_root, add_collection ])\n",
    "w_detail(b6.add_world_with_change(detail_root_id, changes));"
   ]
  },
  {
   "cell_type": "markdown",
   "id": "c5ada2f0-1bde-4cd6-b5ad-26e9ec0ba3f1",
   "metadata": {},
   "source": [
    "### Show the map URL"
   ]
  },
  {
   "cell_type": "code",
   "execution_count": 17,
   "id": "5e9da917-dac2-494c-a098-c4aedcf2e781",
   "metadata": {},
   "outputs": [
    {
     "name": "stdout",
     "output_type": "stream",
     "text": [
      "http://localhost:8001/?r=/collection/diagonal.works/edinburgh/school-crossing-analyis/0&t=/collection/diagonal.works/edinburgh/school-crossing-analyis/0:l:0:Histogram,/collection/diagonal.works/edinburgh/school-crossing-analyis/4:l:1:Details\n"
     ]
    }
   ],
   "source": [
    "tab_expression = \",\".join(tabs)\n",
    "print(f\"http://localhost:8001/?r={root_id}&t={tab_expression}\")"
   ]
  }
 ],
 "metadata": {
  "kernelspec": {
   "display_name": "Python 3 (ipykernel)",
   "language": "python",
   "name": "python3"
  },
  "language_info": {
   "codemirror_mode": {
    "name": "ipython",
    "version": 3
   },
   "file_extension": ".py",
   "mimetype": "text/x-python",
   "name": "python",
   "nbconvert_exporter": "python",
   "pygments_lexer": "ipython3",
   "version": "3.12.7"
  }
 },
 "nbformat": 4,
 "nbformat_minor": 5
}
